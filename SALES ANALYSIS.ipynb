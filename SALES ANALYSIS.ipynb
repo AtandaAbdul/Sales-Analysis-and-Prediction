{
 "cells": [
  {
   "cell_type": "markdown",
   "id": "f63a32bf",
   "metadata": {},
   "source": [
    "# Sales Analysis "
   ]
  },
  {
   "cell_type": "markdown",
   "id": "eee5539c",
   "metadata": {},
   "source": [
    "### Introduction:\n",
    "    > This notebook explores a dataset that provides insights into the sales of a company over an 11-month period\n",
    "    > The primary goal of the notebook is to perform comprehensive data wrangling to prepare the data for visualization and and also analyse and explore the data to answer questions and make some business decisions.\n",
    "    > The notebook addresses various questions based on the data, including:: \n",
    "    1. Identifying the month with the highest sales and determining the corresponding sales amount.\n",
    "    2. Analyzing the product that recorded the highest sales and the product that had the highest quantity sold.\n",
    "    3. Evaluating the sales performance of different cities for each product.\n",
    "    4. Examining the sales trends in the years 2019 and 2020 and analyzing the performance across different quarters of each year.\n",
    "    5. Identifying the time when customers make the most purchases. This information can be valuable for staffing decisions and optimizing advertising campaigns.\n",
    "    6. Determining which products are frequently sold together. This analysis can assist in inventory management and targeted advertising strategies.\n",
    "    \n",
    "    \n",
    "    \n",
    "    >By addressing these questions, the notebook aims to provide valuable insights into the company's sales patterns and enable data-driven decision-making for various aspects of the business, including staffing, advertisement planning, and product stocking."
   ]
  },
  {
   "cell_type": "markdown",
   "id": "37e0b83b",
   "metadata": {},
   "source": [
    "###### importing necessary libraries"
   ]
  },
  {
   "cell_type": "code",
   "execution_count": 84,
   "id": "4cdb279a",
   "metadata": {},
   "outputs": [],
   "source": [
    "import os\n",
    "import pandas as pd\n",
    "import matplotlib.pyplot as plt\n",
    "import seaborn as sns\n",
    "\n",
    "\n",
    "%matplotlib inline\n",
    "sns.set_style('darkgrid')"
   ]
  },
  {
   "cell_type": "markdown",
   "id": "a08a88d2",
   "metadata": {},
   "source": [
    "##### Read all files from the system, save to dataframe , and save to csv"
   ]
  },
  {
   "cell_type": "code",
   "execution_count": 2,
   "id": "f9388744",
   "metadata": {},
   "outputs": [],
   "source": [
    "\n",
    "path = \"./Sales_Data\"\n",
    "files = [file for file in os.listdir(path) if not file.startswith('.')] # Ignore hidden files\n",
    "\n",
    "all_months_data = pd.DataFrame()\n",
    "\n",
    "for file in files:\n",
    "    current_data = pd.read_csv(path+\"/\"+file)\n",
    "    all_months_data = pd.concat([all_months_data, current_data])\n",
    "    \n",
    "all_months_data.to_csv(\"all_sales.csv\", index=False)\n",
    "    "
   ]
  },
  {
   "cell_type": "code",
   "execution_count": 86,
   "id": "ea451ddd",
   "metadata": {
    "scrolled": true
   },
   "outputs": [],
   "source": [
    "#importing dataframe\n",
    "sales_df = pd.read_csv(\"all_sales.csv\")\n"
   ]
  },
  {
   "cell_type": "code",
   "execution_count": 87,
   "id": "4ca6da2e",
   "metadata": {},
   "outputs": [
    {
     "name": "stdout",
     "output_type": "stream",
     "text": [
      "(186850, 6) \n",
      "\n",
      "Order ID            object\n",
      "Product             object\n",
      "Quantity Ordered    object\n",
      "Price Each          object\n",
      "Order Date          object\n",
      "Purchase Address    object\n",
      "dtype: object \n",
      "\n"
     ]
    },
    {
     "data": {
      "text/html": [
       "<div>\n",
       "<style scoped>\n",
       "    .dataframe tbody tr th:only-of-type {\n",
       "        vertical-align: middle;\n",
       "    }\n",
       "\n",
       "    .dataframe tbody tr th {\n",
       "        vertical-align: top;\n",
       "    }\n",
       "\n",
       "    .dataframe thead th {\n",
       "        text-align: right;\n",
       "    }\n",
       "</style>\n",
       "<table border=\"1\" class=\"dataframe\">\n",
       "  <thead>\n",
       "    <tr style=\"text-align: right;\">\n",
       "      <th></th>\n",
       "      <th>Order ID</th>\n",
       "      <th>Product</th>\n",
       "      <th>Quantity Ordered</th>\n",
       "      <th>Price Each</th>\n",
       "      <th>Order Date</th>\n",
       "      <th>Purchase Address</th>\n",
       "    </tr>\n",
       "  </thead>\n",
       "  <tbody>\n",
       "    <tr>\n",
       "      <th>61691</th>\n",
       "      <td>156389</td>\n",
       "      <td>Lightning Charging Cable</td>\n",
       "      <td>1</td>\n",
       "      <td>14.95</td>\n",
       "      <td>02/01/19 09:02</td>\n",
       "      <td>80 Pine St, New York City, NY 10001</td>\n",
       "    </tr>\n",
       "    <tr>\n",
       "      <th>69321</th>\n",
       "      <td>142923</td>\n",
       "      <td>Lightning Charging Cable</td>\n",
       "      <td>1</td>\n",
       "      <td>14.95</td>\n",
       "      <td>01/04/19 23:17</td>\n",
       "      <td>949 2nd St, San Francisco, CA 94016</td>\n",
       "    </tr>\n",
       "    <tr>\n",
       "      <th>57781</th>\n",
       "      <td>152669</td>\n",
       "      <td>USB-C Charging Cable</td>\n",
       "      <td>1</td>\n",
       "      <td>11.95</td>\n",
       "      <td>02/22/19 23:12</td>\n",
       "      <td>488 11th St, New York City, NY 10001</td>\n",
       "    </tr>\n",
       "  </tbody>\n",
       "</table>\n",
       "</div>"
      ],
      "text/plain": [
       "      Order ID                   Product Quantity Ordered Price Each  \\\n",
       "61691   156389  Lightning Charging Cable                1      14.95   \n",
       "69321   142923  Lightning Charging Cable                1      14.95   \n",
       "57781   152669      USB-C Charging Cable                1      11.95   \n",
       "\n",
       "           Order Date                      Purchase Address  \n",
       "61691  02/01/19 09:02   80 Pine St, New York City, NY 10001  \n",
       "69321  01/04/19 23:17   949 2nd St, San Francisco, CA 94016  \n",
       "57781  02/22/19 23:12  488 11th St, New York City, NY 10001  "
      ]
     },
     "metadata": {},
     "output_type": "display_data"
    }
   ],
   "source": [
    "# high-level overview of data shape and composition\n",
    "print(sales_df.shape,\"\\n\")\n",
    "print(sales_df.dtypes,\"\\n\")\n",
    "display(sales_df.sample(3))"
   ]
  },
  {
   "cell_type": "code",
   "execution_count": 7,
   "id": "ee70c891",
   "metadata": {
    "scrolled": true
   },
   "outputs": [
    {
     "data": {
      "text/plain": [
       "Order ID            545\n",
       "Product             545\n",
       "Quantity Ordered    545\n",
       "Price Each          545\n",
       "Order Date          545\n",
       "Purchase Address    545\n",
       "dtype: int64"
      ]
     },
     "execution_count": 7,
     "metadata": {},
     "output_type": "execute_result"
    }
   ],
   "source": [
    "#checking for null values\n",
    "sales_df.isna().sum()"
   ]
  },
  {
   "cell_type": "code",
   "execution_count": 65,
   "id": "8f5f1fca",
   "metadata": {},
   "outputs": [
    {
     "data": {
      "text/plain": [
       "264"
      ]
     },
     "execution_count": 65,
     "metadata": {},
     "output_type": "execute_result"
    }
   ],
   "source": [
    "#checking for duplicates\n",
    "sales_df.duplicated().sum()"
   ]
  },
  {
   "cell_type": "code",
   "execution_count": 67,
   "id": "acffbedc",
   "metadata": {
    "scrolled": true
   },
   "outputs": [
    {
     "data": {
      "text/html": [
       "<div>\n",
       "<style scoped>\n",
       "    .dataframe tbody tr th:only-of-type {\n",
       "        vertical-align: middle;\n",
       "    }\n",
       "\n",
       "    .dataframe tbody tr th {\n",
       "        vertical-align: top;\n",
       "    }\n",
       "\n",
       "    .dataframe thead th {\n",
       "        text-align: right;\n",
       "    }\n",
       "</style>\n",
       "<table border=\"1\" class=\"dataframe\">\n",
       "  <thead>\n",
       "    <tr style=\"text-align: right;\">\n",
       "      <th></th>\n",
       "      <th>Order ID</th>\n",
       "      <th>Product</th>\n",
       "      <th>Quantity Ordered</th>\n",
       "      <th>Price Each</th>\n",
       "      <th>Order Date</th>\n",
       "      <th>Purchase Address</th>\n",
       "      <th>Month</th>\n",
       "      <th>City</th>\n",
       "      <th>Sales</th>\n",
       "      <th>Hour</th>\n",
       "      <th>Minute</th>\n",
       "      <th>Count</th>\n",
       "    </tr>\n",
       "  </thead>\n",
       "  <tbody>\n",
       "    <tr>\n",
       "      <th>31</th>\n",
       "      <td>176585</td>\n",
       "      <td>Bose SoundSport Headphones</td>\n",
       "      <td>1</td>\n",
       "      <td>99.99</td>\n",
       "      <td>2019-04-07 11:31:00</td>\n",
       "      <td>823 Highland St, Boston, MA 02215</td>\n",
       "      <td>4</td>\n",
       "      <td>Boston  (MA)</td>\n",
       "      <td>99.99</td>\n",
       "      <td>11</td>\n",
       "      <td>31</td>\n",
       "      <td>1</td>\n",
       "    </tr>\n",
       "    <tr>\n",
       "      <th>1302</th>\n",
       "      <td>177795</td>\n",
       "      <td>Apple Airpods Headphones</td>\n",
       "      <td>1</td>\n",
       "      <td>150.00</td>\n",
       "      <td>2019-04-27 19:45:00</td>\n",
       "      <td>740 14th St, Seattle, WA 98101</td>\n",
       "      <td>4</td>\n",
       "      <td>Seattle  (WA)</td>\n",
       "      <td>150.00</td>\n",
       "      <td>19</td>\n",
       "      <td>45</td>\n",
       "      <td>1</td>\n",
       "    </tr>\n",
       "    <tr>\n",
       "      <th>1684</th>\n",
       "      <td>178158</td>\n",
       "      <td>USB-C Charging Cable</td>\n",
       "      <td>1</td>\n",
       "      <td>11.95</td>\n",
       "      <td>2019-04-28 21:13:00</td>\n",
       "      <td>197 Center St, San Francisco, CA 94016</td>\n",
       "      <td>4</td>\n",
       "      <td>San Francisco  (CA)</td>\n",
       "      <td>11.95</td>\n",
       "      <td>21</td>\n",
       "      <td>13</td>\n",
       "      <td>1</td>\n",
       "    </tr>\n",
       "    <tr>\n",
       "      <th>3805</th>\n",
       "      <td>180207</td>\n",
       "      <td>Apple Airpods Headphones</td>\n",
       "      <td>1</td>\n",
       "      <td>150.00</td>\n",
       "      <td>2019-04-13 01:46:00</td>\n",
       "      <td>196 7th St, Los Angeles, CA 90001</td>\n",
       "      <td>4</td>\n",
       "      <td>Los Angeles  (CA)</td>\n",
       "      <td>150.00</td>\n",
       "      <td>1</td>\n",
       "      <td>46</td>\n",
       "      <td>1</td>\n",
       "    </tr>\n",
       "    <tr>\n",
       "      <th>4196</th>\n",
       "      <td>180576</td>\n",
       "      <td>Lightning Charging Cable</td>\n",
       "      <td>1</td>\n",
       "      <td>14.95</td>\n",
       "      <td>2019-04-18 17:23:00</td>\n",
       "      <td>431 Park St, Dallas, TX 75001</td>\n",
       "      <td>4</td>\n",
       "      <td>Dallas  (TX)</td>\n",
       "      <td>14.95</td>\n",
       "      <td>17</td>\n",
       "      <td>23</td>\n",
       "      <td>1</td>\n",
       "    </tr>\n",
       "    <tr>\n",
       "      <th>...</th>\n",
       "      <td>...</td>\n",
       "      <td>...</td>\n",
       "      <td>...</td>\n",
       "      <td>...</td>\n",
       "      <td>...</td>\n",
       "      <td>...</td>\n",
       "      <td>...</td>\n",
       "      <td>...</td>\n",
       "      <td>...</td>\n",
       "      <td>...</td>\n",
       "      <td>...</td>\n",
       "      <td>...</td>\n",
       "    </tr>\n",
       "    <tr>\n",
       "      <th>184940</th>\n",
       "      <td>257530</td>\n",
       "      <td>USB-C Charging Cable</td>\n",
       "      <td>1</td>\n",
       "      <td>11.95</td>\n",
       "      <td>2019-09-03 11:13:00</td>\n",
       "      <td>192 Johnson St, San Francisco, CA 94016</td>\n",
       "      <td>9</td>\n",
       "      <td>San Francisco  (CA)</td>\n",
       "      <td>11.95</td>\n",
       "      <td>11</td>\n",
       "      <td>13</td>\n",
       "      <td>1</td>\n",
       "    </tr>\n",
       "    <tr>\n",
       "      <th>186173</th>\n",
       "      <td>258715</td>\n",
       "      <td>Lightning Charging Cable</td>\n",
       "      <td>1</td>\n",
       "      <td>14.95</td>\n",
       "      <td>2019-09-15 16:50:00</td>\n",
       "      <td>550 10th St, Portland, OR 97035</td>\n",
       "      <td>9</td>\n",
       "      <td>Portland  (OR)</td>\n",
       "      <td>14.95</td>\n",
       "      <td>16</td>\n",
       "      <td>50</td>\n",
       "      <td>1</td>\n",
       "    </tr>\n",
       "    <tr>\n",
       "      <th>186508</th>\n",
       "      <td>259035</td>\n",
       "      <td>27in FHD Monitor</td>\n",
       "      <td>1</td>\n",
       "      <td>149.99</td>\n",
       "      <td>2019-09-29 13:52:00</td>\n",
       "      <td>327 Lake St, San Francisco, CA 94016</td>\n",
       "      <td>9</td>\n",
       "      <td>San Francisco  (CA)</td>\n",
       "      <td>149.99</td>\n",
       "      <td>13</td>\n",
       "      <td>52</td>\n",
       "      <td>1</td>\n",
       "    </tr>\n",
       "    <tr>\n",
       "      <th>186782</th>\n",
       "      <td>259296</td>\n",
       "      <td>Apple Airpods Headphones</td>\n",
       "      <td>1</td>\n",
       "      <td>150.00</td>\n",
       "      <td>2019-09-28 16:48:00</td>\n",
       "      <td>894 6th St, Dallas, TX 75001</td>\n",
       "      <td>9</td>\n",
       "      <td>Dallas  (TX)</td>\n",
       "      <td>150.00</td>\n",
       "      <td>16</td>\n",
       "      <td>48</td>\n",
       "      <td>1</td>\n",
       "    </tr>\n",
       "    <tr>\n",
       "      <th>186785</th>\n",
       "      <td>259297</td>\n",
       "      <td>Lightning Charging Cable</td>\n",
       "      <td>1</td>\n",
       "      <td>14.95</td>\n",
       "      <td>2019-09-15 18:54:00</td>\n",
       "      <td>138 Main St, Boston, MA 02215</td>\n",
       "      <td>9</td>\n",
       "      <td>Boston  (MA)</td>\n",
       "      <td>14.95</td>\n",
       "      <td>18</td>\n",
       "      <td>54</td>\n",
       "      <td>1</td>\n",
       "    </tr>\n",
       "  </tbody>\n",
       "</table>\n",
       "<p>264 rows × 12 columns</p>\n",
       "</div>"
      ],
      "text/plain": [
       "       Order ID                     Product  Quantity Ordered  Price Each  \\\n",
       "31       176585  Bose SoundSport Headphones                 1       99.99   \n",
       "1302     177795    Apple Airpods Headphones                 1      150.00   \n",
       "1684     178158        USB-C Charging Cable                 1       11.95   \n",
       "3805     180207    Apple Airpods Headphones                 1      150.00   \n",
       "4196     180576    Lightning Charging Cable                 1       14.95   \n",
       "...         ...                         ...               ...         ...   \n",
       "184940   257530        USB-C Charging Cable                 1       11.95   \n",
       "186173   258715    Lightning Charging Cable                 1       14.95   \n",
       "186508   259035            27in FHD Monitor                 1      149.99   \n",
       "186782   259296    Apple Airpods Headphones                 1      150.00   \n",
       "186785   259297    Lightning Charging Cable                 1       14.95   \n",
       "\n",
       "                Order Date                         Purchase Address  Month  \\\n",
       "31     2019-04-07 11:31:00        823 Highland St, Boston, MA 02215      4   \n",
       "1302   2019-04-27 19:45:00           740 14th St, Seattle, WA 98101      4   \n",
       "1684   2019-04-28 21:13:00   197 Center St, San Francisco, CA 94016      4   \n",
       "3805   2019-04-13 01:46:00        196 7th St, Los Angeles, CA 90001      4   \n",
       "4196   2019-04-18 17:23:00            431 Park St, Dallas, TX 75001      4   \n",
       "...                    ...                                      ...    ...   \n",
       "184940 2019-09-03 11:13:00  192 Johnson St, San Francisco, CA 94016      9   \n",
       "186173 2019-09-15 16:50:00          550 10th St, Portland, OR 97035      9   \n",
       "186508 2019-09-29 13:52:00     327 Lake St, San Francisco, CA 94016      9   \n",
       "186782 2019-09-28 16:48:00             894 6th St, Dallas, TX 75001      9   \n",
       "186785 2019-09-15 18:54:00            138 Main St, Boston, MA 02215      9   \n",
       "\n",
       "                       City   Sales  Hour  Minute  Count  \n",
       "31             Boston  (MA)   99.99    11      31      1  \n",
       "1302          Seattle  (WA)  150.00    19      45      1  \n",
       "1684    San Francisco  (CA)   11.95    21      13      1  \n",
       "3805      Los Angeles  (CA)  150.00     1      46      1  \n",
       "4196           Dallas  (TX)   14.95    17      23      1  \n",
       "...                     ...     ...   ...     ...    ...  \n",
       "184940  San Francisco  (CA)   11.95    11      13      1  \n",
       "186173       Portland  (OR)   14.95    16      50      1  \n",
       "186508  San Francisco  (CA)  149.99    13      52      1  \n",
       "186782         Dallas  (TX)  150.00    16      48      1  \n",
       "186785         Boston  (MA)   14.95    18      54      1  \n",
       "\n",
       "[264 rows x 12 columns]"
      ]
     },
     "execution_count": 67,
     "metadata": {},
     "output_type": "execute_result"
    }
   ],
   "source": [
    "sales_df[sales_df.duplicated()]"
   ]
  },
  {
   "cell_type": "code",
   "execution_count": 88,
   "id": "a8e06f43",
   "metadata": {
    "scrolled": true
   },
   "outputs": [
    {
     "data": {
      "text/html": [
       "<div>\n",
       "<style scoped>\n",
       "    .dataframe tbody tr th:only-of-type {\n",
       "        vertical-align: middle;\n",
       "    }\n",
       "\n",
       "    .dataframe tbody tr th {\n",
       "        vertical-align: top;\n",
       "    }\n",
       "\n",
       "    .dataframe thead th {\n",
       "        text-align: right;\n",
       "    }\n",
       "</style>\n",
       "<table border=\"1\" class=\"dataframe\">\n",
       "  <thead>\n",
       "    <tr style=\"text-align: right;\">\n",
       "      <th></th>\n",
       "      <th>count</th>\n",
       "      <th>unique</th>\n",
       "      <th>top</th>\n",
       "      <th>freq</th>\n",
       "    </tr>\n",
       "  </thead>\n",
       "  <tbody>\n",
       "    <tr>\n",
       "      <th>Order ID</th>\n",
       "      <td>186305</td>\n",
       "      <td>178438</td>\n",
       "      <td>Order ID</td>\n",
       "      <td>355</td>\n",
       "    </tr>\n",
       "    <tr>\n",
       "      <th>Product</th>\n",
       "      <td>186305</td>\n",
       "      <td>20</td>\n",
       "      <td>USB-C Charging Cable</td>\n",
       "      <td>21903</td>\n",
       "    </tr>\n",
       "    <tr>\n",
       "      <th>Quantity Ordered</th>\n",
       "      <td>186305</td>\n",
       "      <td>10</td>\n",
       "      <td>1</td>\n",
       "      <td>168552</td>\n",
       "    </tr>\n",
       "    <tr>\n",
       "      <th>Price Each</th>\n",
       "      <td>186305</td>\n",
       "      <td>24</td>\n",
       "      <td>11.95</td>\n",
       "      <td>21903</td>\n",
       "    </tr>\n",
       "    <tr>\n",
       "      <th>Order Date</th>\n",
       "      <td>186305</td>\n",
       "      <td>142396</td>\n",
       "      <td>Order Date</td>\n",
       "      <td>355</td>\n",
       "    </tr>\n",
       "    <tr>\n",
       "      <th>Purchase Address</th>\n",
       "      <td>186305</td>\n",
       "      <td>140788</td>\n",
       "      <td>Purchase Address</td>\n",
       "      <td>355</td>\n",
       "    </tr>\n",
       "  </tbody>\n",
       "</table>\n",
       "</div>"
      ],
      "text/plain": [
       "                   count  unique                   top    freq\n",
       "Order ID          186305  178438              Order ID     355\n",
       "Product           186305      20  USB-C Charging Cable   21903\n",
       "Quantity Ordered  186305      10                     1  168552\n",
       "Price Each        186305      24                 11.95   21903\n",
       "Order Date        186305  142396            Order Date     355\n",
       "Purchase Address  186305  140788      Purchase Address     355"
      ]
     },
     "execution_count": 88,
     "metadata": {},
     "output_type": "execute_result"
    }
   ],
   "source": [
    "#taking a descriptive statistics\n",
    "sales_df.describe().T"
   ]
  },
  {
   "cell_type": "markdown",
   "id": "d43cccee",
   "metadata": {},
   "source": [
    "### From overview of the data:\n",
    "    > it was noticed that the data has 186850 rows and 6 columns\n",
    "    > The dataset has 545 missing values accross the rows and columns\n",
    "    > The dataset has inappropriate  data type for 'Quantity', 'Ordered Price', 'Each Order Date'\n",
    "    "
   ]
  },
  {
   "cell_type": "code",
   "execution_count": null,
   "id": "30a62565",
   "metadata": {},
   "outputs": [],
   "source": []
  },
  {
   "cell_type": "markdown",
   "id": "7a77ea16",
   "metadata": {},
   "source": [
    "# Data Wrangling"
   ]
  },
  {
   "cell_type": "markdown",
   "id": "8a9efe97",
   "metadata": {},
   "source": [
    "### Missing Values"
   ]
  },
  {
   "cell_type": "code",
   "execution_count": 8,
   "id": "723c82d1",
   "metadata": {},
   "outputs": [
    {
     "data": {
      "text/html": [
       "<div>\n",
       "<style scoped>\n",
       "    .dataframe tbody tr th:only-of-type {\n",
       "        vertical-align: middle;\n",
       "    }\n",
       "\n",
       "    .dataframe tbody tr th {\n",
       "        vertical-align: top;\n",
       "    }\n",
       "\n",
       "    .dataframe thead th {\n",
       "        text-align: right;\n",
       "    }\n",
       "</style>\n",
       "<table border=\"1\" class=\"dataframe\">\n",
       "  <thead>\n",
       "    <tr style=\"text-align: right;\">\n",
       "      <th></th>\n",
       "      <th>Order ID</th>\n",
       "      <th>Product</th>\n",
       "      <th>Quantity Ordered</th>\n",
       "      <th>Price Each</th>\n",
       "      <th>Order Date</th>\n",
       "      <th>Purchase Address</th>\n",
       "    </tr>\n",
       "  </thead>\n",
       "  <tbody>\n",
       "    <tr>\n",
       "      <th>1</th>\n",
       "      <td>NaN</td>\n",
       "      <td>NaN</td>\n",
       "      <td>NaN</td>\n",
       "      <td>NaN</td>\n",
       "      <td>NaN</td>\n",
       "      <td>NaN</td>\n",
       "    </tr>\n",
       "    <tr>\n",
       "      <th>356</th>\n",
       "      <td>NaN</td>\n",
       "      <td>NaN</td>\n",
       "      <td>NaN</td>\n",
       "      <td>NaN</td>\n",
       "      <td>NaN</td>\n",
       "      <td>NaN</td>\n",
       "    </tr>\n",
       "    <tr>\n",
       "      <th>735</th>\n",
       "      <td>NaN</td>\n",
       "      <td>NaN</td>\n",
       "      <td>NaN</td>\n",
       "      <td>NaN</td>\n",
       "      <td>NaN</td>\n",
       "      <td>NaN</td>\n",
       "    </tr>\n",
       "    <tr>\n",
       "      <th>1433</th>\n",
       "      <td>NaN</td>\n",
       "      <td>NaN</td>\n",
       "      <td>NaN</td>\n",
       "      <td>NaN</td>\n",
       "      <td>NaN</td>\n",
       "      <td>NaN</td>\n",
       "    </tr>\n",
       "    <tr>\n",
       "      <th>1553</th>\n",
       "      <td>NaN</td>\n",
       "      <td>NaN</td>\n",
       "      <td>NaN</td>\n",
       "      <td>NaN</td>\n",
       "      <td>NaN</td>\n",
       "      <td>NaN</td>\n",
       "    </tr>\n",
       "  </tbody>\n",
       "</table>\n",
       "</div>"
      ],
      "text/plain": [
       "     Order ID Product Quantity Ordered Price Each Order Date Purchase Address\n",
       "1         NaN     NaN              NaN        NaN        NaN              NaN\n",
       "356       NaN     NaN              NaN        NaN        NaN              NaN\n",
       "735       NaN     NaN              NaN        NaN        NaN              NaN\n",
       "1433      NaN     NaN              NaN        NaN        NaN              NaN\n",
       "1553      NaN     NaN              NaN        NaN        NaN              NaN"
      ]
     },
     "execution_count": 8,
     "metadata": {},
     "output_type": "execute_result"
    }
   ],
   "source": [
    "# Find NAN\n",
    "nan_df = sales_df[sales_df.isna().any(axis=1)]\n",
    "nan_df.head()\n",
    "\n"
   ]
  },
  {
   "cell_type": "code",
   "execution_count": 94,
   "id": "48b2cca8",
   "metadata": {},
   "outputs": [
    {
     "data": {
      "text/plain": [
       "index               0\n",
       "Order ID            0\n",
       "Product             0\n",
       "Quantity Ordered    0\n",
       "Price Each          0\n",
       "Order Date          0\n",
       "Purchase Address    0\n",
       "dtype: int64"
      ]
     },
     "execution_count": 94,
     "metadata": {},
     "output_type": "execute_result"
    }
   ],
   "source": [
    "#dropping the missing values\n",
    "sales_df = sales_df.dropna(how='all')\n",
    "sales_df= sales_df.reset_index()\n",
    "#confirming if they've been dropped\n",
    "sales_df.isna().sum()"
   ]
  },
  {
   "cell_type": "markdown",
   "id": "dd21e5a5",
   "metadata": {},
   "source": []
  },
  {
   "cell_type": "code",
   "execution_count": 11,
   "id": "37d5371a",
   "metadata": {},
   "outputs": [],
   "source": [
    "#### Make columns correct type"
   ]
  },
  {
   "cell_type": "code",
   "execution_count": 97,
   "id": "34f3fa86",
   "metadata": {},
   "outputs": [
    {
     "data": {
      "text/html": [
       "<div>\n",
       "<style scoped>\n",
       "    .dataframe tbody tr th:only-of-type {\n",
       "        vertical-align: middle;\n",
       "    }\n",
       "\n",
       "    .dataframe tbody tr th {\n",
       "        vertical-align: top;\n",
       "    }\n",
       "\n",
       "    .dataframe thead th {\n",
       "        text-align: right;\n",
       "    }\n",
       "</style>\n",
       "<table border=\"1\" class=\"dataframe\">\n",
       "  <thead>\n",
       "    <tr style=\"text-align: right;\">\n",
       "      <th></th>\n",
       "      <th>index</th>\n",
       "      <th>Order ID</th>\n",
       "      <th>Product</th>\n",
       "      <th>Quantity Ordered</th>\n",
       "      <th>Price Each</th>\n",
       "      <th>Order Date</th>\n",
       "      <th>Purchase Address</th>\n",
       "    </tr>\n",
       "  </thead>\n",
       "  <tbody>\n",
       "    <tr>\n",
       "      <th>517</th>\n",
       "      <td>519</td>\n",
       "      <td>Order ID</td>\n",
       "      <td>Product</td>\n",
       "      <td>Quantity Ordered</td>\n",
       "      <td>Price Each</td>\n",
       "      <td>Order Date</td>\n",
       "      <td>Purchase Address</td>\n",
       "    </tr>\n",
       "    <tr>\n",
       "      <th>1146</th>\n",
       "      <td>1149</td>\n",
       "      <td>Order ID</td>\n",
       "      <td>Product</td>\n",
       "      <td>Quantity Ordered</td>\n",
       "      <td>Price Each</td>\n",
       "      <td>Order Date</td>\n",
       "      <td>Purchase Address</td>\n",
       "    </tr>\n",
       "    <tr>\n",
       "      <th>1152</th>\n",
       "      <td>1155</td>\n",
       "      <td>Order ID</td>\n",
       "      <td>Product</td>\n",
       "      <td>Quantity Ordered</td>\n",
       "      <td>Price Each</td>\n",
       "      <td>Order Date</td>\n",
       "      <td>Purchase Address</td>\n",
       "    </tr>\n",
       "    <tr>\n",
       "      <th>2869</th>\n",
       "      <td>2878</td>\n",
       "      <td>Order ID</td>\n",
       "      <td>Product</td>\n",
       "      <td>Quantity Ordered</td>\n",
       "      <td>Price Each</td>\n",
       "      <td>Order Date</td>\n",
       "      <td>Purchase Address</td>\n",
       "    </tr>\n",
       "    <tr>\n",
       "      <th>2884</th>\n",
       "      <td>2893</td>\n",
       "      <td>Order ID</td>\n",
       "      <td>Product</td>\n",
       "      <td>Quantity Ordered</td>\n",
       "      <td>Price Each</td>\n",
       "      <td>Order Date</td>\n",
       "      <td>Purchase Address</td>\n",
       "    </tr>\n",
       "    <tr>\n",
       "      <th>...</th>\n",
       "      <td>...</td>\n",
       "      <td>...</td>\n",
       "      <td>...</td>\n",
       "      <td>...</td>\n",
       "      <td>...</td>\n",
       "      <td>...</td>\n",
       "      <td>...</td>\n",
       "    </tr>\n",
       "    <tr>\n",
       "      <th>184624</th>\n",
       "      <td>185164</td>\n",
       "      <td>Order ID</td>\n",
       "      <td>Product</td>\n",
       "      <td>Quantity Ordered</td>\n",
       "      <td>Price Each</td>\n",
       "      <td>Order Date</td>\n",
       "      <td>Purchase Address</td>\n",
       "    </tr>\n",
       "    <tr>\n",
       "      <th>185009</th>\n",
       "      <td>185551</td>\n",
       "      <td>Order ID</td>\n",
       "      <td>Product</td>\n",
       "      <td>Quantity Ordered</td>\n",
       "      <td>Price Each</td>\n",
       "      <td>Order Date</td>\n",
       "      <td>Purchase Address</td>\n",
       "    </tr>\n",
       "    <tr>\n",
       "      <th>186019</th>\n",
       "      <td>186563</td>\n",
       "      <td>Order ID</td>\n",
       "      <td>Product</td>\n",
       "      <td>Quantity Ordered</td>\n",
       "      <td>Price Each</td>\n",
       "      <td>Order Date</td>\n",
       "      <td>Purchase Address</td>\n",
       "    </tr>\n",
       "    <tr>\n",
       "      <th>186088</th>\n",
       "      <td>186632</td>\n",
       "      <td>Order ID</td>\n",
       "      <td>Product</td>\n",
       "      <td>Quantity Ordered</td>\n",
       "      <td>Price Each</td>\n",
       "      <td>Order Date</td>\n",
       "      <td>Purchase Address</td>\n",
       "    </tr>\n",
       "    <tr>\n",
       "      <th>186194</th>\n",
       "      <td>186738</td>\n",
       "      <td>Order ID</td>\n",
       "      <td>Product</td>\n",
       "      <td>Quantity Ordered</td>\n",
       "      <td>Price Each</td>\n",
       "      <td>Order Date</td>\n",
       "      <td>Purchase Address</td>\n",
       "    </tr>\n",
       "  </tbody>\n",
       "</table>\n",
       "<p>355 rows × 7 columns</p>\n",
       "</div>"
      ],
      "text/plain": [
       "         index  Order ID  Product  Quantity Ordered  Price Each  Order Date  \\\n",
       "517        519  Order ID  Product  Quantity Ordered  Price Each  Order Date   \n",
       "1146      1149  Order ID  Product  Quantity Ordered  Price Each  Order Date   \n",
       "1152      1155  Order ID  Product  Quantity Ordered  Price Each  Order Date   \n",
       "2869      2878  Order ID  Product  Quantity Ordered  Price Each  Order Date   \n",
       "2884      2893  Order ID  Product  Quantity Ordered  Price Each  Order Date   \n",
       "...        ...       ...      ...               ...         ...         ...   \n",
       "184624  185164  Order ID  Product  Quantity Ordered  Price Each  Order Date   \n",
       "185009  185551  Order ID  Product  Quantity Ordered  Price Each  Order Date   \n",
       "186019  186563  Order ID  Product  Quantity Ordered  Price Each  Order Date   \n",
       "186088  186632  Order ID  Product  Quantity Ordered  Price Each  Order Date   \n",
       "186194  186738  Order ID  Product  Quantity Ordered  Price Each  Order Date   \n",
       "\n",
       "        Purchase Address  \n",
       "517     Purchase Address  \n",
       "1146    Purchase Address  \n",
       "1152    Purchase Address  \n",
       "2869    Purchase Address  \n",
       "2884    Purchase Address  \n",
       "...                  ...  \n",
       "184624  Purchase Address  \n",
       "185009  Purchase Address  \n",
       "186019  Purchase Address  \n",
       "186088  Purchase Address  \n",
       "186194  Purchase Address  \n",
       "\n",
       "[355 rows x 7 columns]"
      ]
     },
     "execution_count": 97,
     "metadata": {},
     "output_type": "execute_result"
    }
   ],
   "source": [
    "# It was discovered that some rows and columns had inappropriate values and this is then adjusted\n",
    "sales_df.loc[sales_df['Order ID'] == \"Order ID\"]"
   ]
  },
  {
   "cell_type": "code",
   "execution_count": 98,
   "id": "ca10ebd6",
   "metadata": {},
   "outputs": [],
   "source": [
    "sales_df = sales_df[sales_df['Order ID'].str[0:2]!='Or']"
   ]
  },
  {
   "cell_type": "code",
   "execution_count": null,
   "id": "9726e651",
   "metadata": {},
   "outputs": [],
   "source": []
  },
  {
   "cell_type": "markdown",
   "id": "8ff22c18",
   "metadata": {},
   "source": [
    "### Inappropiate Data Types"
   ]
  },
  {
   "cell_type": "code",
   "execution_count": 99,
   "id": "568b264c",
   "metadata": {},
   "outputs": [],
   "source": [
    "#Assigning the correct data type to the mis lablled columns\n",
    "sales_df['Price Each'] = pd.to_numeric(sales_df['Price Each'])\n",
    "sales_df['Quantity Ordered'] = pd.to_numeric(sales_df['Quantity Ordered'])\n",
    "sales_df['Order Date'] = pd.to_datetime(sales_df['Order Date'])\n"
   ]
  },
  {
   "cell_type": "markdown",
   "id": "aae63f46",
   "metadata": {},
   "source": [
    "### Data Augmentation with New Columns"
   ]
  },
  {
   "cell_type": "markdown",
   "id": "e555f914",
   "metadata": {},
   "source": [
    "##### augmenting with some date and time columns"
   ]
  },
  {
   "cell_type": "code",
   "execution_count": 126,
   "id": "3f9fa1d4",
   "metadata": {},
   "outputs": [
    {
     "name": "stdout",
     "output_type": "stream",
     "text": [
      "       day_of_week  hour period_of_day\n",
      "175978      Monday    22         Night\n",
      "10217       Monday     8       Morning\n",
      "68789     Saturday    19     Afternoon\n"
     ]
    },
    {
     "name": "stderr",
     "output_type": "stream",
     "text": [
      "C:\\Users\\USER\\AppData\\Local\\Temp\\ipykernel_6812\\2301366531.py:11: SettingWithCopyWarning: \n",
      "A value is trying to be set on a copy of a slice from a DataFrame\n",
      "\n",
      "See the caveats in the documentation: https://pandas.pydata.org/pandas-docs/stable/user_guide/indexing.html#returning-a-view-versus-a-copy\n",
      "  sales_df['period_of_day'][(sales_df['hour'] >= 12) & (sales_df['hour'] <= 19)] = 'Afternoon'\n",
      "C:\\Users\\USER\\AppData\\Local\\Temp\\ipykernel_6812\\2301366531.py:12: SettingWithCopyWarning: \n",
      "A value is trying to be set on a copy of a slice from a DataFrame\n",
      "\n",
      "See the caveats in the documentation: https://pandas.pydata.org/pandas-docs/stable/user_guide/indexing.html#returning-a-view-versus-a-copy\n",
      "  sales_df['period_of_day'][(sales_df['hour'] >19) & (sales_df['hour'] <= 23)] = 'Night'\n"
     ]
    }
   ],
   "source": [
    "#extract month\n",
    "sales_df['Month'] = sales_df['Order Date'].dt.month\n",
    "# extract day of the week(Mon-Sun)\n",
    "sales_df['day_of_week'] = pd.to_datetime(sales_df['Order Date']).dt.day_name()\n",
    "#Extract day\n",
    "sales_df['day'] = pd.to_datetime(sales_df['Order Date']).dt.day\n",
    "# extract hour\n",
    "sales_df['hour'] = pd.to_datetime(sales_df['Order Date']).dt.hour\n",
    "#Extract time period into morning, afternoon or night\n",
    "sales_df['period_of_day'] = 'Morning'\n",
    "sales_df['period_of_day'][(sales_df['hour'] >= 12) & (sales_df['hour'] <= 19)] = 'Afternoon'\n",
    "sales_df['period_of_day'][(sales_df['hour'] >19) & (sales_df['hour'] <= 23)] = 'Night'\n",
    "#adding minute\n",
    "sales_df['Minute'] = pd.to_datetime(sales_df['Order Date']).dt.minute\n",
    "\n",
    "# print the added columns\n",
    "print(sales_df[['day_of_week','hour','period_of_day']].sample(3))"
   ]
  },
  {
   "cell_type": "markdown",
   "id": "9fa2c7ac",
   "metadata": {},
   "source": [
    "##### Add city column"
   ]
  },
  {
   "cell_type": "code",
   "execution_count": 105,
   "id": "28199a3b",
   "metadata": {},
   "outputs": [
    {
     "data": {
      "text/html": [
       "<div>\n",
       "<style scoped>\n",
       "    .dataframe tbody tr th:only-of-type {\n",
       "        vertical-align: middle;\n",
       "    }\n",
       "\n",
       "    .dataframe tbody tr th {\n",
       "        vertical-align: top;\n",
       "    }\n",
       "\n",
       "    .dataframe thead th {\n",
       "        text-align: right;\n",
       "    }\n",
       "</style>\n",
       "<table border=\"1\" class=\"dataframe\">\n",
       "  <thead>\n",
       "    <tr style=\"text-align: right;\">\n",
       "      <th></th>\n",
       "      <th>index</th>\n",
       "      <th>Order ID</th>\n",
       "      <th>Product</th>\n",
       "      <th>Quantity Ordered</th>\n",
       "      <th>Price Each</th>\n",
       "      <th>Order Date</th>\n",
       "      <th>Purchase Address</th>\n",
       "      <th>day_of_week</th>\n",
       "      <th>day</th>\n",
       "      <th>hour</th>\n",
       "      <th>period_of_day</th>\n",
       "      <th>Month</th>\n",
       "      <th>City</th>\n",
       "    </tr>\n",
       "  </thead>\n",
       "  <tbody>\n",
       "    <tr>\n",
       "      <th>109090</th>\n",
       "      <td>109414</td>\n",
       "      <td>165952</td>\n",
       "      <td>Apple Airpods Headphones</td>\n",
       "      <td>1</td>\n",
       "      <td>150.0</td>\n",
       "      <td>2019-03-13 20:03:00</td>\n",
       "      <td>514 North St, Los Angeles, CA 90001</td>\n",
       "      <td>Wednesday</td>\n",
       "      <td>13</td>\n",
       "      <td>20</td>\n",
       "      <td>Night</td>\n",
       "      <td>3</td>\n",
       "      <td>Los Angeles  (CA)</td>\n",
       "    </tr>\n",
       "    <tr>\n",
       "      <th>23763</th>\n",
       "      <td>23832</td>\n",
       "      <td>241899</td>\n",
       "      <td>iPhone</td>\n",
       "      <td>1</td>\n",
       "      <td>700.0</td>\n",
       "      <td>2019-08-27 23:04:00</td>\n",
       "      <td>317 Wilson St, New York City, NY 10001</td>\n",
       "      <td>Tuesday</td>\n",
       "      <td>27</td>\n",
       "      <td>23</td>\n",
       "      <td>Night</td>\n",
       "      <td>8</td>\n",
       "      <td>New York City  (NY)</td>\n",
       "    </tr>\n",
       "  </tbody>\n",
       "</table>\n",
       "</div>"
      ],
      "text/plain": [
       "         index Order ID                   Product  Quantity Ordered  \\\n",
       "109090  109414   165952  Apple Airpods Headphones                 1   \n",
       "23763    23832   241899                    iPhone                 1   \n",
       "\n",
       "        Price Each          Order Date  \\\n",
       "109090       150.0 2019-03-13 20:03:00   \n",
       "23763        700.0 2019-08-27 23:04:00   \n",
       "\n",
       "                              Purchase Address day_of_week  day  hour  \\\n",
       "109090     514 North St, Los Angeles, CA 90001   Wednesday   13    20   \n",
       "23763   317 Wilson St, New York City, NY 10001     Tuesday   27    23   \n",
       "\n",
       "       period_of_day  Month                 City  \n",
       "109090         Night      3    Los Angeles  (CA)  \n",
       "23763          Night      8  New York City  (NY)  "
      ]
     },
     "execution_count": 105,
     "metadata": {},
     "output_type": "execute_result"
    }
   ],
   "source": [
    "#functions to axtract state and city from the adress\n",
    "def get_city(address):\n",
    "    return address.split(\",\")[1].strip(\" \")\n",
    "\n",
    "def get_state(address):\n",
    "    return address.split(\",\")[2].split(\" \")[1]\n",
    "\n",
    "sales_df['City'] = sales_df['Purchase Address'].apply(lambda x: f\"{get_city(x)}  ({get_state(x)})\")\n",
    "sales_df.sample(2)"
   ]
  },
  {
   "cell_type": "markdown",
   "id": "42370acd",
   "metadata": {},
   "source": [
    "##### Add sales column"
   ]
  },
  {
   "cell_type": "code",
   "execution_count": 109,
   "id": "e9cb553d",
   "metadata": {},
   "outputs": [],
   "source": [
    "sales_df['Sales'] = sales_df['Quantity Ordered'].astype('int') * sales_df['Price Each'].astype('float')"
   ]
  },
  {
   "cell_type": "code",
   "execution_count": 110,
   "id": "788ac255",
   "metadata": {
    "scrolled": false
   },
   "outputs": [
    {
     "name": "stdout",
     "output_type": "stream",
     "text": [
      "<class 'pandas.core.frame.DataFrame'>\n",
      "Int64Index: 185950 entries, 0 to 186304\n",
      "Data columns (total 14 columns):\n",
      " #   Column            Non-Null Count   Dtype         \n",
      "---  ------            --------------   -----         \n",
      " 0   index             185950 non-null  int64         \n",
      " 1   Order ID          185950 non-null  object        \n",
      " 2   Product           185950 non-null  object        \n",
      " 3   Quantity Ordered  185950 non-null  int64         \n",
      " 4   Price Each        185950 non-null  float64       \n",
      " 5   Order Date        185950 non-null  datetime64[ns]\n",
      " 6   Purchase Address  185950 non-null  object        \n",
      " 7   day_of_week       185950 non-null  object        \n",
      " 8   day               185950 non-null  int64         \n",
      " 9   hour              185950 non-null  int64         \n",
      " 10  period_of_day     185950 non-null  object        \n",
      " 11  Month             185950 non-null  int64         \n",
      " 12  City              185950 non-null  object        \n",
      " 13  Sales             185950 non-null  float64       \n",
      "dtypes: datetime64[ns](1), float64(2), int64(5), object(6)\n",
      "memory usage: 21.3+ MB\n"
     ]
    }
   ],
   "source": [
    "#Information about our eventual dataset\n",
    "sales_df.info()"
   ]
  },
  {
   "cell_type": "markdown",
   "id": "839586e1",
   "metadata": {},
   "source": [
    "## Data Exploration!"
   ]
  },
  {
   "cell_type": "markdown",
   "id": "883981d8",
   "metadata": {},
   "source": [
    "## Function for Plot counts\n"
   ]
  },
  {
   "cell_type": "code",
   "execution_count": 76,
   "id": "01b49269",
   "metadata": {},
   "outputs": [],
   "source": [
    "##Function for plotting\n",
    "def countPlot(df,xVar,hue=None,order=None,annot=True,hue_order=None):\n",
    "    \n",
    "    # set plot dimension\n",
    "    plt.figure(figsize=[14, 5])\n",
    "            \n",
    "    #choose base color\n",
    "    base_color = sns.color_palette()[0]\n",
    "    #plot\n",
    "    sns.countplot(data = df, x = xVar,hue=hue, color = base_color,order=order,edgecolor='black',linewidth=2,hue_order=hue_order)\n",
    "    if annot:\n",
    "            var_counts = df[xVar].value_counts() \n",
    "            total_rides = var_counts.sum()\n",
    "            # print frequency on the bar chart\n",
    "            locs, labels = plt.xticks(size=14)\n",
    "            for loc, label in zip(locs, labels):                \n",
    "                count = var_counts[label.get_text()]\n",
    "                pct_string = '{:0.1f}%'.format(100*count/total_rides)\n",
    "                plt.text(loc, count-15000, pct_string, ha='center',color='white',fontsize=12)\n",
    "               \n",
    "    #after plotting,clean up varialble names\n",
    "    xVar = xVar.replace('_',' ')#replace with a space\n",
    "    if hue:\n",
    "              hue = hue.replace('_',' ') \n",
    "            \n",
    "    \n",
    "    #Add title and format it \n",
    "    plt.title(f'''Distribution of {xVar} {'by' if hue else ''} {hue if hue else ''}'''.title(),fontsize=14,weight='bold')\n",
    "    #xlabel and formatting\n",
    "    plt.xlabel(xVar.title(),fontsize=10,weight='bold')\n",
    "    #xlabel and formatting\n",
    "    plt.ylabel('Sales'.title(),fontsize=10,weight='bold')\n",
    "    \n",
    "plt.show()"
   ]
  },
  {
   "cell_type": "markdown",
   "id": "c81bb86c",
   "metadata": {},
   "source": [
    "### What was the best month for sales and how much was sold?"
   ]
  },
  {
   "cell_type": "code",
   "execution_count": 146,
   "id": "e78ecf1a",
   "metadata": {
    "scrolled": false
   },
   "outputs": [
    {
     "data": {
      "text/plain": [
       "Order Date\n",
       "2019-01-31    1813586.44\n",
       "2019-02-28    2202022.42\n",
       "2019-03-31    2807100.38\n",
       "2019-04-30    3390670.24\n",
       "2019-05-31    3152606.75\n",
       "2019-06-30    2577802.26\n",
       "2019-07-31    2647775.76\n",
       "2019-08-31    2244467.88\n",
       "2019-09-30    2097560.13\n",
       "2019-10-31    3736726.88\n",
       "2019-11-30    3199603.20\n",
       "2019-12-31    4613443.34\n",
       "2020-01-31       8670.29\n",
       "Freq: M, Name: Sales, dtype: float64"
      ]
     },
     "execution_count": 146,
     "metadata": {},
     "output_type": "execute_result"
    }
   ],
   "source": [
    "sales_by_month = sales_df.groupby(pd.Grouper(key='Order Date', freq='M')).sum()['Sales']\n",
    "#sales_by_month=sales_by_month.sort_values(ascending=False)\n",
    "sales_by_month"
   ]
  },
  {
   "cell_type": "code",
   "execution_count": 158,
   "id": "a22c4ce5",
   "metadata": {},
   "outputs": [
    {
     "data": {
      "text/plain": [
       "Text(0.5, 1.0, 'moths')"
      ]
     },
     "execution_count": 158,
     "metadata": {},
     "output_type": "execute_result"
    },
    {
     "data": {
      "image/png": "[encoded data removed]",
      "text/plain": [
       "<Figure size 640x480 with 1 Axes>"
      ]
     },
     "metadata": {},
     "output_type": "display_data"
    }
   ],
   "source": [
    "sales_by_month.plot(kind='bar')\n",
    "plt.xlabel('Months')\n",
    "plt.ylabel('price')\n",
    "plt.title('moths')"
   ]
  },
  {
   "cell_type": "code",
   "execution_count": 157,
   "id": "75d4e8b2",
   "metadata": {},
   "outputs": [
    {
     "data": {
      "image/png": "[encoded data removed]",
      "text/plain": [
       "<Figure size 1000x600 with 1 Axes>"
      ]
     },
     "metadata": {},
     "output_type": "display_data"
    }
   ],
   "source": [
    "import matplotlib.pyplot as plt\n",
    "import pandas as pd\n",
    "\n",
    "# Convert the index to a datetime object\n",
    "sales_by_month.index = pd.to_datetime(sales_by_month.index)\n",
    "\n",
    "# Create a sequence of all dates in the desired range\n",
    "date_range = pd.date_range(start=sales_by_month.index.min(), end=sales_by_month.index.max(), freq='M')\n",
    "\n",
    "# Reindex the sales_by_month DataFrame with the complete date range\n",
    "sales_by_month = sales_by_month.reindex(date_range)\n",
    "\n",
    "# Fill missing values with 0\n",
    "sales_by_month = sales_by_month.fillna(0)\n",
    "\n",
    "# Create the bar plot\n",
    "ax = sales_by_month.plot(kind='bar', figsize=(10, 6), color='steelblue')\n",
    "\n",
    "# Set the x and y-axis labels\n",
    "ax.set_xlabel('Months')\n",
    "ax.set_ylabel('Sales')\n",
    "\n",
    "# Set the title\n",
    "ax.set_title('Sales by Month')\n",
    "\n",
    "# Rotate and align the x-axis labels for better readability\n",
    "ax.set_xticklabels(sales_by_month.index.strftime('%Y-%m'), rotation=45, ha='right')\n",
    "\n",
    "# Add gridlines\n",
    "ax.grid(axis='y', linestyle='--', alpha=0.5)\n",
    "\n",
    "# Remove the legend (optional)\n",
    "ax.legend().remove()\n",
    "\n",
    "# Show the plot\n",
    "plt.tight_layout()\n",
    "plt.show()\n"
   ]
  },
  {
   "cell_type": "markdown",
   "id": "8ca06050",
   "metadata": {},
   "source": [
    "#### It can be noticed that theDecember 2019 recorded most sales and least sales were recorded in January (both 2019 and 2020)"
   ]
  },
  {
   "cell_type": "code",
   "execution_count": null,
   "id": "e26ad7ab",
   "metadata": {},
   "outputs": [],
   "source": []
  },
  {
   "cell_type": "markdown",
   "id": "c0bd20ae",
   "metadata": {},
   "source": [
    "### What Product Sold the Most"
   ]
  },
  {
   "cell_type": "code",
   "execution_count": 42,
   "id": "dd70e265",
   "metadata": {
    "scrolled": true
   },
   "outputs": [
    {
     "data": {
      "text/html": [
       "<div>\n",
       "<style scoped>\n",
       "    .dataframe tbody tr th:only-of-type {\n",
       "        vertical-align: middle;\n",
       "    }\n",
       "\n",
       "    .dataframe tbody tr th {\n",
       "        vertical-align: top;\n",
       "    }\n",
       "\n",
       "    .dataframe thead th {\n",
       "        text-align: right;\n",
       "    }\n",
       "</style>\n",
       "<table border=\"1\" class=\"dataframe\">\n",
       "  <thead>\n",
       "    <tr style=\"text-align: right;\">\n",
       "      <th></th>\n",
       "      <th>Sales</th>\n",
       "    </tr>\n",
       "    <tr>\n",
       "      <th>Product</th>\n",
       "      <th></th>\n",
       "    </tr>\n",
       "  </thead>\n",
       "  <tbody>\n",
       "    <tr>\n",
       "      <th>Macbook Pro Laptop</th>\n",
       "      <td>8037600.00</td>\n",
       "    </tr>\n",
       "    <tr>\n",
       "      <th>iPhone</th>\n",
       "      <td>4794300.00</td>\n",
       "    </tr>\n",
       "    <tr>\n",
       "      <th>ThinkPad Laptop</th>\n",
       "      <td>4129958.70</td>\n",
       "    </tr>\n",
       "    <tr>\n",
       "      <th>Google Phone</th>\n",
       "      <td>3319200.00</td>\n",
       "    </tr>\n",
       "    <tr>\n",
       "      <th>27in 4K Gaming Monitor</th>\n",
       "      <td>2435097.56</td>\n",
       "    </tr>\n",
       "    <tr>\n",
       "      <th>34in Ultrawide Monitor</th>\n",
       "      <td>2355558.01</td>\n",
       "    </tr>\n",
       "    <tr>\n",
       "      <th>Apple Airpods Headphones</th>\n",
       "      <td>2349150.00</td>\n",
       "    </tr>\n",
       "    <tr>\n",
       "      <th>Flatscreen TV</th>\n",
       "      <td>1445700.00</td>\n",
       "    </tr>\n",
       "    <tr>\n",
       "      <th>Bose SoundSport Headphones</th>\n",
       "      <td>1345565.43</td>\n",
       "    </tr>\n",
       "    <tr>\n",
       "      <th>27in FHD Monitor</th>\n",
       "      <td>1132424.50</td>\n",
       "    </tr>\n",
       "    <tr>\n",
       "      <th>Vareebadd Phone</th>\n",
       "      <td>827200.00</td>\n",
       "    </tr>\n",
       "    <tr>\n",
       "      <th>20in Monitor</th>\n",
       "      <td>454148.71</td>\n",
       "    </tr>\n",
       "    <tr>\n",
       "      <th>LG Washing Machine</th>\n",
       "      <td>399600.00</td>\n",
       "    </tr>\n",
       "    <tr>\n",
       "      <th>LG Dryer</th>\n",
       "      <td>387600.00</td>\n",
       "    </tr>\n",
       "    <tr>\n",
       "      <th>Lightning Charging Cable</th>\n",
       "      <td>347094.15</td>\n",
       "    </tr>\n",
       "    <tr>\n",
       "      <th>USB-C Charging Cable</th>\n",
       "      <td>286501.25</td>\n",
       "    </tr>\n",
       "    <tr>\n",
       "      <th>Wired Headphones</th>\n",
       "      <td>246478.43</td>\n",
       "    </tr>\n",
       "    <tr>\n",
       "      <th>AA Batteries (4-pack)</th>\n",
       "      <td>106118.40</td>\n",
       "    </tr>\n",
       "    <tr>\n",
       "      <th>AAA Batteries (4-pack)</th>\n",
       "      <td>92740.83</td>\n",
       "    </tr>\n",
       "  </tbody>\n",
       "</table>\n",
       "</div>"
      ],
      "text/plain": [
       "                                 Sales\n",
       "Product                               \n",
       "Macbook Pro Laptop          8037600.00\n",
       "iPhone                      4794300.00\n",
       "ThinkPad Laptop             4129958.70\n",
       "Google Phone                3319200.00\n",
       "27in 4K Gaming Monitor      2435097.56\n",
       "34in Ultrawide Monitor      2355558.01\n",
       "Apple Airpods Headphones    2349150.00\n",
       "Flatscreen TV               1445700.00\n",
       "Bose SoundSport Headphones  1345565.43\n",
       "27in FHD Monitor            1132424.50\n",
       "Vareebadd Phone              827200.00\n",
       "20in Monitor                 454148.71\n",
       "LG Washing Machine           399600.00\n",
       "LG Dryer                     387600.00\n",
       "Lightning Charging Cable     347094.15\n",
       "USB-C Charging Cable         286501.25\n",
       "Wired Headphones             246478.43\n",
       "AA Batteries (4-pack)        106118.40\n",
       "AAA Batteries (4-pack)        92740.83"
      ]
     },
     "execution_count": 42,
     "metadata": {},
     "output_type": "execute_result"
    }
   ],
   "source": [
    "sales_df[['Product','Sales']].groupby(['Product']).sum().sort_values(by='Sales',ascending=False)"
   ]
  },
  {
   "cell_type": "code",
   "execution_count": 45,
   "id": "c8642f3a",
   "metadata": {},
   "outputs": [
    {
     "data": {
      "text/html": [
       "<div>\n",
       "<style scoped>\n",
       "    .dataframe tbody tr th:only-of-type {\n",
       "        vertical-align: middle;\n",
       "    }\n",
       "\n",
       "    .dataframe tbody tr th {\n",
       "        vertical-align: top;\n",
       "    }\n",
       "\n",
       "    .dataframe thead th {\n",
       "        text-align: right;\n",
       "    }\n",
       "</style>\n",
       "<table border=\"1\" class=\"dataframe\">\n",
       "  <thead>\n",
       "    <tr style=\"text-align: right;\">\n",
       "      <th></th>\n",
       "      <th>Quantity Ordered</th>\n",
       "      <th>Sales</th>\n",
       "    </tr>\n",
       "    <tr>\n",
       "      <th>Product</th>\n",
       "      <th></th>\n",
       "      <th></th>\n",
       "    </tr>\n",
       "  </thead>\n",
       "  <tbody>\n",
       "    <tr>\n",
       "      <th>AAA Batteries (4-pack)</th>\n",
       "      <td>31017</td>\n",
       "      <td>92740.83</td>\n",
       "    </tr>\n",
       "    <tr>\n",
       "      <th>AA Batteries (4-pack)</th>\n",
       "      <td>27635</td>\n",
       "      <td>106118.40</td>\n",
       "    </tr>\n",
       "    <tr>\n",
       "      <th>USB-C Charging Cable</th>\n",
       "      <td>23975</td>\n",
       "      <td>286501.25</td>\n",
       "    </tr>\n",
       "    <tr>\n",
       "      <th>Lightning Charging Cable</th>\n",
       "      <td>23217</td>\n",
       "      <td>347094.15</td>\n",
       "    </tr>\n",
       "    <tr>\n",
       "      <th>Wired Headphones</th>\n",
       "      <td>20557</td>\n",
       "      <td>246478.43</td>\n",
       "    </tr>\n",
       "    <tr>\n",
       "      <th>Apple Airpods Headphones</th>\n",
       "      <td>15661</td>\n",
       "      <td>2349150.00</td>\n",
       "    </tr>\n",
       "    <tr>\n",
       "      <th>Bose SoundSport Headphones</th>\n",
       "      <td>13457</td>\n",
       "      <td>1345565.43</td>\n",
       "    </tr>\n",
       "    <tr>\n",
       "      <th>27in FHD Monitor</th>\n",
       "      <td>7550</td>\n",
       "      <td>1132424.50</td>\n",
       "    </tr>\n",
       "    <tr>\n",
       "      <th>iPhone</th>\n",
       "      <td>6849</td>\n",
       "      <td>4794300.00</td>\n",
       "    </tr>\n",
       "    <tr>\n",
       "      <th>27in 4K Gaming Monitor</th>\n",
       "      <td>6244</td>\n",
       "      <td>2435097.56</td>\n",
       "    </tr>\n",
       "    <tr>\n",
       "      <th>34in Ultrawide Monitor</th>\n",
       "      <td>6199</td>\n",
       "      <td>2355558.01</td>\n",
       "    </tr>\n",
       "    <tr>\n",
       "      <th>Google Phone</th>\n",
       "      <td>5532</td>\n",
       "      <td>3319200.00</td>\n",
       "    </tr>\n",
       "    <tr>\n",
       "      <th>Flatscreen TV</th>\n",
       "      <td>4819</td>\n",
       "      <td>1445700.00</td>\n",
       "    </tr>\n",
       "    <tr>\n",
       "      <th>Macbook Pro Laptop</th>\n",
       "      <td>4728</td>\n",
       "      <td>8037600.00</td>\n",
       "    </tr>\n",
       "    <tr>\n",
       "      <th>ThinkPad Laptop</th>\n",
       "      <td>4130</td>\n",
       "      <td>4129958.70</td>\n",
       "    </tr>\n",
       "    <tr>\n",
       "      <th>20in Monitor</th>\n",
       "      <td>4129</td>\n",
       "      <td>454148.71</td>\n",
       "    </tr>\n",
       "    <tr>\n",
       "      <th>Vareebadd Phone</th>\n",
       "      <td>2068</td>\n",
       "      <td>827200.00</td>\n",
       "    </tr>\n",
       "    <tr>\n",
       "      <th>LG Washing Machine</th>\n",
       "      <td>666</td>\n",
       "      <td>399600.00</td>\n",
       "    </tr>\n",
       "    <tr>\n",
       "      <th>LG Dryer</th>\n",
       "      <td>646</td>\n",
       "      <td>387600.00</td>\n",
       "    </tr>\n",
       "  </tbody>\n",
       "</table>\n",
       "</div>"
      ],
      "text/plain": [
       "                            Quantity Ordered       Sales\n",
       "Product                                                 \n",
       "AAA Batteries (4-pack)                 31017    92740.83\n",
       "AA Batteries (4-pack)                  27635   106118.40\n",
       "USB-C Charging Cable                   23975   286501.25\n",
       "Lightning Charging Cable               23217   347094.15\n",
       "Wired Headphones                       20557   246478.43\n",
       "Apple Airpods Headphones               15661  2349150.00\n",
       "Bose SoundSport Headphones             13457  1345565.43\n",
       "27in FHD Monitor                        7550  1132424.50\n",
       "iPhone                                  6849  4794300.00\n",
       "27in 4K Gaming Monitor                  6244  2435097.56\n",
       "34in Ultrawide Monitor                  6199  2355558.01\n",
       "Google Phone                            5532  3319200.00\n",
       "Flatscreen TV                           4819  1445700.00\n",
       "Macbook Pro Laptop                      4728  8037600.00\n",
       "ThinkPad Laptop                         4130  4129958.70\n",
       "20in Monitor                            4129   454148.71\n",
       "Vareebadd Phone                         2068   827200.00\n",
       "LG Washing Machine                       666   399600.00\n",
       "LG Dryer                                 646   387600.00"
      ]
     },
     "execution_count": 45,
     "metadata": {},
     "output_type": "execute_result"
    }
   ],
   "source": [
    "sales_df[['Product','Quantity Ordered','Sales']].groupby(['Product']).sum().sort_values(by='Quantity Ordered',ascending=False)"
   ]
  },
  {
   "cell_type": "code",
   "execution_count": 46,
   "id": "bd0ba507",
   "metadata": {
    "scrolled": false
   },
   "outputs": [
    {
     "data": {
      "image/png": "[encoded data removed]",
      "text/plain": [
       "<Figure size 640x480 with 1 Axes>"
      ]
     },
     "metadata": {},
     "output_type": "display_data"
    }
   ],
   "source": [
    "product_group = sales_df.groupby('Product')\n",
    "quantity_ordered = product_group.sum()['Quantity Ordered']\n",
    "\n",
    "keys = [pair for pair, df in product_group]\n",
    "plt.bar(keys, quantity_ordered)\n",
    "plt.xticks(keys, rotation='vertical', size=8)\n",
    "plt.show()"
   ]
  },
  {
   "cell_type": "markdown",
   "id": "0ddbc199",
   "metadata": {},
   "source": [
    "#### From the above exploration, it can be discovered that even though:\n",
    "    Macbook Pro Laptop, iPhone,ThinkPad Laptop broght more of the sale sales, the most sold items are AAA Batteries (4-pack),AA Batteries (4-pack) USB-C Charging Cable Lightning Charging Cable"
   ]
  },
  {
   "cell_type": "markdown",
   "id": "9765ef71",
   "metadata": {},
   "source": [
    "## What city sold the most product?"
   ]
  },
  {
   "cell_type": "code",
   "execution_count": 56,
   "id": "35285629",
   "metadata": {
    "scrolled": true
   },
   "outputs": [
    {
     "data": {
      "text/plain": [
       "City\n",
       "San Francisco  (CA)    8262203.91\n",
       "Los Angeles  (CA)      5452570.80\n",
       "New York City  (NY)    4664317.43\n",
       "Boston  (MA)           3661642.01\n",
       "Atlanta  (GA)          2795498.58\n",
       "Name: Sales, dtype: float64"
      ]
     },
     "execution_count": 56,
     "metadata": {},
     "output_type": "execute_result"
    }
   ],
   "source": [
    "city_sales=sales_df.groupby('City')['Sales'].sum().nlargest(5)\n",
    "city_sales"
   ]
  },
  {
   "cell_type": "code",
   "execution_count": 30,
   "id": "5d1c9d48",
   "metadata": {
    "scrolled": true
   },
   "outputs": [
    {
     "data": {
      "image/png": "[encoded data removed]",
      "text/plain": [
       "<Figure size 640x480 with 1 Axes>"
      ]
     },
     "metadata": {},
     "output_type": "display_data"
    }
   ],
   "source": [
    "keys = [city for city, df in sales_df.groupby(['City'])]\n",
    "\n",
    "plt.bar(keys,sales_df.groupby(['City']).sum()['Sales'])\n",
    "plt.ylabel('Sales in USD ($)')\n",
    "plt.xlabel('Month number')\n",
    "plt.xticks(keys, rotation='vertical', size=8)\n",
    "plt.show()"
   ]
  },
  {
   "cell_type": "markdown",
   "id": "c0aec6c6",
   "metadata": {},
   "source": [
    "#### It can be seen that San FRancisco, Los Angeles are sold the most products and Portland sold the least product\n"
   ]
  },
  {
   "cell_type": "markdown",
   "id": "9bd73736",
   "metadata": {},
   "source": [
    "## How did the cities fair in their respective Product Sale?"
   ]
  },
  {
   "cell_type": "code",
   "execution_count": 165,
   "id": "58757829",
   "metadata": {},
   "outputs": [
    {
     "data": {
      "text/plain": [
       "City           Product               \n",
       "Atlanta  (GA)  20in Monitor               37616.58\n",
       "               27in 4K Gaming Monitor    192265.07\n",
       "               27in FHD Monitor           88194.12\n",
       "               34in Ultrawide Monitor    183155.18\n",
       "               AA Batteries (4-pack)       8421.12\n",
       "                                           ...    \n",
       "Seattle  (WA)  ThinkPad Laptop           332996.67\n",
       "               USB-C Charging Cable       22334.55\n",
       "               Vareebadd Phone            71600.00\n",
       "               Wired Headphones           19807.48\n",
       "               iPhone                    382200.00\n",
       "Name: Sales, Length: 190, dtype: float64"
      ]
     },
     "execution_count": 165,
     "metadata": {},
     "output_type": "execute_result"
    }
   ],
   "source": [
    "sales_df.groupby(['City','Product'])['Sales'].sum()"
   ]
  },
  {
   "cell_type": "markdown",
   "id": "4c117b8e",
   "metadata": {},
   "source": [
    "### How did the sales go in year 2019 and 2020 and in different quarters of the year"
   ]
  },
  {
   "cell_type": "code",
   "execution_count": 162,
   "id": "925c9a55",
   "metadata": {},
   "outputs": [
    {
     "data": {
      "text/plain": [
       "Order Date\n",
       "2019-12-31    34483365.68\n",
       "2020-12-31        8670.29\n",
       "Freq: A-DEC, Name: Sales, dtype: float64"
      ]
     },
     "execution_count": 162,
     "metadata": {},
     "output_type": "execute_result"
    }
   ],
   "source": [
    "## sales_by_year = sales_df.groupby(pd.Grouper(key='Order Date', freq='Y'))['Sales'].sum()\n",
    "sales_by_year"
   ]
  },
  {
   "cell_type": "code",
   "execution_count": 161,
   "id": "1e19249d",
   "metadata": {},
   "outputs": [
    {
     "data": {
      "text/plain": [
       "Order Date\n",
       "2019-03-31     6822709.24\n",
       "2019-06-30     9121079.25\n",
       "2019-09-30     6989803.77\n",
       "2019-12-31    11549773.42\n",
       "2020-03-31        8670.29\n",
       "Freq: Q-DEC, Name: Sales, dtype: float64"
      ]
     },
     "execution_count": 161,
     "metadata": {},
     "output_type": "execute_result"
    }
   ],
   "source": [
    "sales_by_year_quarter = sales_df.groupby(pd.Grouper(key='Order Date', freq='Q'))['Sales'].sum()\n",
    "sales_by_year_quarter"
   ]
  },
  {
   "cell_type": "markdown",
   "id": "0f4cd9b8",
   "metadata": {},
   "source": [
    "#### It can be seen that:\n",
    "    >Year 2019 had 34483365.68 sales and january 2022 had 8670.29\n",
    "    >When checking the quarterly entry of sales, it was discovered that most sales where came in the the last quarter of the year and this also be seen from increase in the December sales. "
   ]
  },
  {
   "cell_type": "markdown",
   "id": "0c11b9b1",
   "metadata": {},
   "source": [
    "## What time do our customers buy more products?This can be important for planning in terms of staffing and when to put up advetisement"
   ]
  },
  {
   "cell_type": "code",
   "execution_count": 163,
   "id": "04acb1da",
   "metadata": {},
   "outputs": [],
   "source": [
    "sales_df['Count'] = 1\n"
   ]
  },
  {
   "cell_type": "code",
   "execution_count": 164,
   "id": "a404ca84",
   "metadata": {
    "scrolled": false
   },
   "outputs": [
    {
     "data": {
      "image/png": "[encoded data removed]",
      "text/plain": [
       "<Figure size 640x480 with 1 Axes>"
      ]
     },
     "metadata": {},
     "output_type": "display_data"
    }
   ],
   "source": [
    "keys = [pair for pair, df in sales_df.groupby(['hour'])]\n",
    "\n",
    "plt.plot(keys, sales_df.groupby(['hour']).count()['Count'])\n",
    "plt.xticks(keys)\n",
    "#plt.grid()\n",
    "plt.show()\n",
    "\n",
    "# More transactions are made around 11am and 7pm.It can be recommended that the advert is put on slightly before 11am or 7pm"
   ]
  },
  {
   "cell_type": "code",
   "execution_count": 81,
   "id": "96c3f2ec",
   "metadata": {
    "scrolled": true
   },
   "outputs": [
    {
     "data": {
      "image/png": "[encoded data removed]",
      "text/plain": [
       "<Figure size 1400x500 with 1 Axes>"
      ]
     },
     "metadata": {},
     "output_type": "display_data"
    }
   ],
   "source": [
    "#order\n",
    "period_order=['Morning','Afternoon','Night']\n",
    "#calling function to plot graph\n",
    "countPlot(sales_df,'period_of_day',order=period_order)"
   ]
  },
  {
   "cell_type": "code",
   "execution_count": 77,
   "id": "cfb009c2",
   "metadata": {
    "scrolled": true
   },
   "outputs": [
    {
     "data": {
      "image/png": "[encoded data removed]",
      "text/plain": [
       "<Figure size 1400x500 with 1 Axes>"
      ]
     },
     "metadata": {},
     "output_type": "display_data"
    }
   ],
   "source": [
    "#day order\n",
    "day_order = ['Monday','Tuesday','Wednesday','Thursday','Friday','Saturday','Sunday']\n",
    "#calling function to plot graph\n",
    "countPlot(sales_df,'day_of_week',order=day_order)"
   ]
  },
  {
   "cell_type": "markdown",
   "id": "467cecbe",
   "metadata": {},
   "source": [
    "#### It can be noticed that the sales is evenly disctributed accross the week"
   ]
  },
  {
   "cell_type": "markdown",
   "id": "4228b5da",
   "metadata": {},
   "source": [
    "### It is noticed that:\n",
    "    >More transactions are made around 11am and 7pm.It can be recommended that the advert is put on slightly before 11am or 7pm    \n",
    "    >Most of the transactions(49.7%) are made within the afternoon period(12pm - 7pm) and this can be used to make a decision of putting more stafe for this shift as compared to morning and night\n",
    "    >Sales are evenly distributed among different days of the week, this therefore accounts for can translate to equal daily shifts among staffs without any deficit on the weekends\n",
    "    >"
   ]
  },
  {
   "cell_type": "markdown",
   "id": "f20bf93d",
   "metadata": {},
   "source": [
    "## What products are most often sold together?"
   ]
  },
  {
   "cell_type": "code",
   "execution_count": 48,
   "id": "a0269107",
   "metadata": {},
   "outputs": [
    {
     "name": "stderr",
     "output_type": "stream",
     "text": [
      "C:\\Users\\USER\\AppData\\Local\\Temp\\ipykernel_6812\\2864652352.py:5: SettingWithCopyWarning: \n",
      "A value is trying to be set on a copy of a slice from a DataFrame.\n",
      "Try using .loc[row_indexer,col_indexer] = value instead\n",
      "\n",
      "See the caveats in the documentation: https://pandas.pydata.org/pandas-docs/stable/user_guide/indexing.html#returning-a-view-versus-a-copy\n",
      "  df['Grouped'] = df.groupby('Order ID')['Product'].transform(lambda x: ','.join(x))\n"
     ]
    }
   ],
   "source": [
    "# https://stackoverflow.com/questions/43348194/pandas-select-rows-if-id-appear-several-time\n",
    "df = sales_df[sales_df['Order ID'].duplicated(keep=False)]\n",
    "\n",
    "# Referenced: https://stackoverflow.com/questions/27298178/concatenate-strings-from-several-rows-using-pandas-groupby\n",
    "df['Grouped'] = df.groupby('Order ID')['Product'].transform(lambda x: ','.join(x))\n",
    "df2 = df[['Order ID', 'Grouped']].drop_duplicates()"
   ]
  },
  {
   "cell_type": "code",
   "execution_count": 49,
   "id": "1c216c67",
   "metadata": {},
   "outputs": [
    {
     "name": "stdout",
     "output_type": "stream",
     "text": [
      "('iPhone', 'Lightning Charging Cable') 1005\n",
      "('Google Phone', 'USB-C Charging Cable') 987\n",
      "('iPhone', 'Wired Headphones') 447\n",
      "('Google Phone', 'Wired Headphones') 414\n",
      "('Vareebadd Phone', 'USB-C Charging Cable') 361\n",
      "('iPhone', 'Apple Airpods Headphones') 360\n",
      "('Google Phone', 'Bose SoundSport Headphones') 220\n",
      "('USB-C Charging Cable', 'Wired Headphones') 160\n",
      "('Vareebadd Phone', 'Wired Headphones') 143\n",
      "('Lightning Charging Cable', 'Wired Headphones') 92\n"
     ]
    }
   ],
   "source": [
    "# Referenced: https://stackoverflow.com/questions/52195887/counting-unique-pairs-of-numbers-into-a-python-dictionary\n",
    "from itertools import combinations\n",
    "from collections import Counter\n",
    "\n",
    "count = Counter()\n",
    "\n",
    "for row in df2['Grouped']:\n",
    "    row_list = row.split(',')\n",
    "    count.update(Counter(combinations(row_list, 2)))\n",
    "\n",
    "for key,value in count.most_common(10):\n",
    "    print(key, value)\n"
   ]
  },
  {
   "cell_type": "code",
   "execution_count": null,
   "id": "dfb3e290",
   "metadata": {},
   "outputs": [],
   "source": []
  },
  {
   "cell_type": "code",
   "execution_count": null,
   "id": "80962a3b",
   "metadata": {},
   "outputs": [],
   "source": []
  }
 ],
 "metadata": {
  "kernelspec": {
   "display_name": "Python 3 (ipykernel)",
   "language": "python",
   "name": "python3"
  },
  "language_info": {
   "codemirror_mode": {
    "name": "ipython",
    "version": 3
   },
   "file_extension": ".py",
   "mimetype": "text/x-python",
   "name": "python",
   "nbconvert_exporter": "python",
   "pygments_lexer": "ipython3",
   "version": "3.9.13"
  }
 },
 "nbformat": 4,
 "nbformat_minor": 5
}
